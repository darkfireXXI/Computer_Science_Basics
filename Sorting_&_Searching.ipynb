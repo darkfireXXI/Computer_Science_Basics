{
 "cells": [
  {
   "cell_type": "markdown",
   "metadata": {},
   "source": [
    "# Computer Science Basics\n",
    "Because even after doing algorithm trading, physics, and earning an MSc in engineering you still have to prove you can sort a list.\n",
    "\n",
    "We'll go in order of speed from slowest to fasted:  \n",
    "1 Sorting  \n",
    "1.1 Bubble sort  \n",
    "1.2 Insertion sort  \n",
    "1.3 Selection sort  \n",
    "1.4 Quick sort  \n",
    "1.5 Merge sort  \n",
    "2 Searching  \n",
    "2.1 Linear Search  \n",
    "2.2 Jump Search  \n",
    "2.3 Binary Search  \n",
    "\n",
    "## 1 Sorting\n",
    "### 1.1 Bubble Sort\n",
    "<pre>\n",
    "Best case: O(n) comparisons  \n",
    "           O(1) swaps  \n",
    "Average case: O(n^2) comparisons  \n",
    "              O(n^2) swaps  \n",
    "Worst case: O(n^2) comparisons  \n",
    "            O(n^2) swaps  \n",
    "</pre>"
   ]
  },
  {
   "cell_type": "code",
   "execution_count": 1,
   "metadata": {},
   "outputs": [
    {
     "name": "stdout",
     "output_type": "stream",
     "text": [
      "List 1-10 in Shuffled:\n",
      "[ 7  4  2  8  5  3 10  9  1  6]\n",
      "\n",
      "The process...\n",
      "[ 4  7  2  8  5  3 10  9  1  6]\n",
      "[ 4  2  7  8  5  3 10  9  1  6]\n",
      "[ 4  2  7  5  8  3 10  9  1  6]\n",
      "[ 4  2  7  5  3  8 10  9  1  6]\n",
      "[ 4  2  7  5  3  8  9 10  1  6]\n",
      "[ 4  2  7  5  3  8  9  1 10  6]\n",
      "[ 4  2  7  5  3  8  9  1  6 10]\n",
      "[ 2  4  7  5  3  8  9  1  6 10]\n",
      "[ 2  4  5  7  3  8  9  1  6 10]\n",
      "[ 2  4  5  3  7  8  9  1  6 10]\n",
      "[ 2  4  5  3  7  8  1  9  6 10]\n",
      "[ 2  4  5  3  7  8  1  6  9 10]\n",
      "[ 2  4  3  5  7  8  1  6  9 10]\n",
      "[ 2  4  3  5  7  1  8  6  9 10]\n",
      "[ 2  4  3  5  7  1  6  8  9 10]\n",
      "[ 2  3  4  5  7  1  6  8  9 10]\n",
      "[ 2  3  4  5  1  7  6  8  9 10]\n",
      "[ 2  3  4  5  1  6  7  8  9 10]\n",
      "[ 2  3  4  1  5  6  7  8  9 10]\n",
      "[ 2  3  1  4  5  6  7  8  9 10]\n",
      "[ 2  1  3  4  5  6  7  8  9 10]\n",
      "[ 1  2  3  4  5  6  7  8  9 10]\n",
      "\n",
      "Sorted by Bubble Sort:\n",
      "[ 1  2  3  4  5  6  7  8  9 10]\n"
     ]
    }
   ],
   "source": [
    "import numpy as np\n",
    "import random\n",
    "\n",
    "A = np.arange(1, 11)\n",
    "random.shuffle(A)\n",
    "print('List 1-10 in Shuffled:')\n",
    "print(A)\n",
    "print('\\nThe process...')\n",
    "\n",
    "def bubbleSort(A):\n",
    "    n = len(A)\n",
    "    if(n == 0):\n",
    "        return 'The list is empty'\n",
    "    swaps = 1\n",
    "    while swaps > 0:\n",
    "        swaps = 0\n",
    "        for i in range(1, len(A)):\n",
    "            if(A[i-1] > A[i]):\n",
    "                A[i-1], A[i] = A[i], A[i-1]\n",
    "                swaps += 1\n",
    "                print(A)\n",
    "    return(A)\n",
    "                \n",
    "A = bubbleSort(A)\n",
    "print('\\nSorted by Bubble Sort:')\n",
    "print(A)"
   ]
  },
  {
   "cell_type": "markdown",
   "metadata": {},
   "source": [
    "### 1.2 Insertion Sort\n",
    "<pre>\n",
    "Best case: O(n) comparisons  \n",
    "           O(1) swaps  \n",
    "Average case: O(n^2) comparisons  \n",
    "              O(n^2) swaps  \n",
    "Worst case: O(n^2) comparisons  \n",
    "            O(n^2) swaps  \n",
    "</pre>"
   ]
  },
  {
   "cell_type": "code",
   "execution_count": 2,
   "metadata": {},
   "outputs": [
    {
     "name": "stdout",
     "output_type": "stream",
     "text": [
      "List 1-10 in Shuffled:\n",
      "[10  8  2  7  9  6  4  1  5  3]\n",
      "\n",
      "The process...\n",
      "[ 8 10  2  7  9  6  4  1  5  3]\n",
      "[ 8  2 10  7  9  6  4  1  5  3]\n",
      "[ 2  8 10  7  9  6  4  1  5  3]\n",
      "[ 2  8  7 10  9  6  4  1  5  3]\n",
      "[ 2  7  8 10  9  6  4  1  5  3]\n",
      "[ 2  7  8  9 10  6  4  1  5  3]\n",
      "[ 2  7  8  9  6 10  4  1  5  3]\n",
      "[ 2  7  8  6  9 10  4  1  5  3]\n",
      "[ 2  7  6  8  9 10  4  1  5  3]\n",
      "[ 2  6  7  8  9 10  4  1  5  3]\n",
      "[ 2  6  7  8  9  4 10  1  5  3]\n",
      "[ 2  6  7  8  4  9 10  1  5  3]\n",
      "[ 2  6  7  4  8  9 10  1  5  3]\n",
      "[ 2  6  4  7  8  9 10  1  5  3]\n",
      "[ 2  4  6  7  8  9 10  1  5  3]\n",
      "[ 2  4  6  7  8  9  1 10  5  3]\n",
      "[ 2  4  6  7  8  1  9 10  5  3]\n",
      "[ 2  4  6  7  1  8  9 10  5  3]\n",
      "[ 2  4  6  1  7  8  9 10  5  3]\n",
      "[ 2  4  1  6  7  8  9 10  5  3]\n",
      "[ 2  1  4  6  7  8  9 10  5  3]\n",
      "[ 1  2  4  6  7  8  9 10  5  3]\n",
      "[ 1  2  4  6  7  8  9  5 10  3]\n",
      "[ 1  2  4  6  7  8  5  9 10  3]\n",
      "[ 1  2  4  6  7  5  8  9 10  3]\n",
      "[ 1  2  4  6  5  7  8  9 10  3]\n",
      "[ 1  2  4  5  6  7  8  9 10  3]\n",
      "[ 1  2  4  5  6  7  8  9  3 10]\n",
      "[ 1  2  4  5  6  7  8  3  9 10]\n",
      "[ 1  2  4  5  6  7  3  8  9 10]\n",
      "[ 1  2  4  5  6  3  7  8  9 10]\n",
      "[ 1  2  4  5  3  6  7  8  9 10]\n",
      "[ 1  2  4  3  5  6  7  8  9 10]\n",
      "[ 1  2  3  4  5  6  7  8  9 10]\n",
      "\n",
      "Sorted by Insertion Sort:\n",
      "[ 1  2  3  4  5  6  7  8  9 10]\n"
     ]
    }
   ],
   "source": [
    "A = np.arange(1, 11)\n",
    "random.shuffle(A)\n",
    "print('List 1-10 in Shuffled:')\n",
    "print(A)\n",
    "print('\\nThe process...')\n",
    "\n",
    "def insertionSort(A):\n",
    "    n = len(A)\n",
    "    if(n == 0):\n",
    "        return 'The list is empty'\n",
    "    i = 1\n",
    "    while i < n:\n",
    "        j = i\n",
    "        while j > 0 and A[j-1] > A[j]:\n",
    "            A[j-1], A[j] = A[j], A[j-1]\n",
    "            j -= 1\n",
    "            print(A)\n",
    "        i += 1\n",
    "    return A  \n",
    "\n",
    "A = insertionSort(A)\n",
    "print('\\nSorted by Insertion Sort:')\n",
    "print(A)"
   ]
  },
  {
   "cell_type": "markdown",
   "metadata": {},
   "source": [
    "### 1.3 Selection Sort\n",
    "<pre>\n",
    "Best case: O(n^2) comparisons  \n",
    "           O(n) swaps  \n",
    "Average case: O(n^2) comparisons  \n",
    "              O(n) swaps  \n",
    "Worst case: O(n^2) comparisons  \n",
    "            O(n) swaps  \n",
    "</pre>"
   ]
  },
  {
   "cell_type": "code",
   "execution_count": 3,
   "metadata": {},
   "outputs": [
    {
     "name": "stdout",
     "output_type": "stream",
     "text": [
      "List 1-10 in Shuffled:\n",
      "[ 6  4  3  1  7  9  5 10  2  8]\n",
      "\n",
      "The process...\n",
      "[1, 4, 3, 6, 7, 9, 5, 10, 2, 8]\n",
      "[1, 2, 3, 6, 7, 9, 5, 10, 4, 8]\n",
      "[1, 2, 3, 6, 7, 9, 5, 10, 4, 8]\n",
      "[1, 2, 3, 4, 7, 9, 5, 10, 6, 8]\n",
      "[1, 2, 3, 4, 5, 9, 7, 10, 6, 8]\n",
      "[1, 2, 3, 4, 5, 6, 7, 10, 9, 8]\n",
      "[1, 2, 3, 4, 5, 6, 7, 10, 9, 8]\n",
      "[1, 2, 3, 4, 5, 6, 7, 8, 9, 10]\n",
      "[1, 2, 3, 4, 5, 6, 7, 8, 9, 10]\n",
      "[1, 2, 3, 4, 5, 6, 7, 8, 9, 10]\n",
      "\n",
      "Sorted by Selection Sort:\n",
      "[1, 2, 3, 4, 5, 6, 7, 8, 9, 10]\n"
     ]
    }
   ],
   "source": [
    "A = np.arange(1, 11)\n",
    "random.shuffle(A)\n",
    "print('List 1-10 in Shuffled:')\n",
    "print(A)\n",
    "print('\\nThe process...')\n",
    "\n",
    "def selectionSort(A):\n",
    "    n = len(A)\n",
    "    A = list(A)\n",
    "    if(n == 0):\n",
    "        return 'The list is empty'\n",
    "\n",
    "    for i in range(0, n):\n",
    "        minA = A[i]\n",
    "        item = i\n",
    "        for j in range(i+1, n):\n",
    "            if(A[j] < minA):\n",
    "                minA = A[j]\n",
    "                item = j\n",
    "        A[i], A[item] = A[item], A[i]\n",
    "        print(A)\n",
    "        \n",
    "    return A\n",
    "\n",
    "A = selectionSort(A)\n",
    "print('\\nSorted by Selection Sort:')\n",
    "print(A)"
   ]
  },
  {
   "cell_type": "markdown",
   "metadata": {},
   "source": [
    "###  1.4 Quick Sort\n",
    "<pre>\n",
    "Best case: O(n log(n))  \n",
    "Average case: O(n log(n))  \n",
    "Worst case: O(n^2)   \n",
    "</pre>"
   ]
  },
  {
   "cell_type": "code",
   "execution_count": 4,
   "metadata": {},
   "outputs": [
    {
     "name": "stdout",
     "output_type": "stream",
     "text": [
      "List 1-10 in Shuffled:\n",
      "[10  7  2  1  5  9  4  8  6  3]\n",
      "\n",
      "The process...\n",
      "[10  7  2  1  5  9  4  8  6]\n",
      "[1]\n",
      "[10  5  9  4  8  6]\n",
      "[6 5]\n",
      "[5]\n",
      "[ 8 10]\n",
      "\n",
      "Sorted by Quick Sort:\n",
      "[ 1  2  3  4  5  6  7  8  9 10]\n"
     ]
    }
   ],
   "source": [
    "A = np.arange(1, 11)\n",
    "random.shuffle(A)\n",
    "print('List 1-10 in Shuffled:')\n",
    "print(A)\n",
    "print('\\nThe process...')\n",
    "\n",
    "def quickSort(A, low, high):\n",
    "    if(len(A) == 0):\n",
    "        return 'The list is empty'\n",
    "    if(low < high):\n",
    "        pivotvalue = partition(A, low, high)\n",
    "#         print(A[low, pivotvalue-1], A[pivotvalue+1, high])\n",
    "        quickSort(A, low, pivotvalue-1)\n",
    "        quickSort(A, pivotvalue+1, high)\n",
    "        \n",
    "    return A\n",
    "\n",
    "def partition(A, low, high):\n",
    "    print(A[low:high])\n",
    "    pivotvalue = A[high]\n",
    "    lo, hi = low, high - 1\n",
    "\n",
    "    while(lo < high):\n",
    "        while(lo <= hi and A[lo] <= pivotvalue):\n",
    "            lo = lo + 1\n",
    "        while(A[hi] >= pivotvalue and hi >= lo):\n",
    "            hi = hi -1\n",
    "\n",
    "        if lo > hi:\n",
    "            break\n",
    "        else:\n",
    "            A[lo], A[hi] = A[hi], A[lo]\n",
    "\n",
    "    A[lo], A[high] = A[high], A[lo]\n",
    "    return lo\n",
    "\n",
    "high = len(A)-1\n",
    "A = quickSort(A, 0, high)\n",
    "print('\\nSorted by Quick Sort:')\n",
    "print(A)"
   ]
  },
  {
   "cell_type": "markdown",
   "metadata": {},
   "source": [
    "### 1.5 Merge Sort \n",
    "<pre>\n",
    "Best case: O(n log(n))  \n",
    "Average case: O(n log(n))  \n",
    "Worst case: O(n^2)   \n",
    "</pre>"
   ]
  },
  {
   "cell_type": "code",
   "execution_count": 5,
   "metadata": {},
   "outputs": [
    {
     "name": "stdout",
     "output_type": "stream",
     "text": [
      "List 1-10 in Shuffled:\n",
      "[ 6  8  1  2  9  4  5  3 10  7]\n",
      "\n",
      "The process...\n",
      "[6, 8]\n",
      "[2, 9]\n",
      "[1, 2, 9]\n",
      "[1, 2, 6, 8, 9]\n",
      "[4, 5]\n",
      "[7, 10]\n",
      "[3, 7, 10]\n",
      "[3, 4, 5, 7, 10]\n",
      "[1, 2, 3, 4, 5, 6, 7, 8, 9, 10]\n",
      "\n",
      "Sorted by Merge Sort:\n",
      "[1, 2, 3, 4, 5, 6, 7, 8, 9, 10]\n"
     ]
    }
   ],
   "source": [
    "A = np.arange(1, 11)\n",
    "random.shuffle(A)\n",
    "print('List 1-10 in Shuffled:')\n",
    "print(A)\n",
    "print('\\nThe process...')\n",
    "\n",
    "def mergeSort(A):\n",
    "    A = list(A)\n",
    "    if(len(A) < 2):\n",
    "        return A\n",
    "    elif(len(A) == 0):\n",
    "        return 'The list is empty'\n",
    "        \n",
    "    else:\n",
    "        leftA, rightA = split(A)\n",
    "        \n",
    "    return merge(mergeSort(leftA), mergeSort(rightA))\n",
    "        \n",
    "def merge(leftA, rightA):\n",
    "    if(len(leftA) == 0):\n",
    "        return leftA\n",
    "    elif(len(rightA) == 0):\n",
    "        return rightA\n",
    "    \n",
    "    left, right = 0, 0\n",
    "    merged = []\n",
    "    n = len(leftA) + len(rightA)\n",
    "    while(len(merged) < n):\n",
    "        if(leftA[left] <= rightA[right]):\n",
    "            merged.append(leftA[left])\n",
    "            left += 1\n",
    "        else:\n",
    "            merged.append(rightA[right])\n",
    "            right += 1\n",
    "            \n",
    "        if(right == len(rightA)):\n",
    "                merged += leftA[left:]\n",
    "                break\n",
    "        elif(left == len(leftA)):\n",
    "                merged += rightA[right:]\n",
    "                break\n",
    "    print(merged)\n",
    "    return merged\n",
    "    \n",
    "def split(A):\n",
    "    middle = int(len(A)/2)\n",
    "    return A[:middle], A[middle:]\n",
    "\n",
    "A = mergeSort(A)\n",
    "print('\\nSorted by Merge Sort:')\n",
    "print(A)"
   ]
  },
  {
   "cell_type": "markdown",
   "metadata": {},
   "source": [
    "## 2 Searching\n",
    "Now that we've sorted things in lists, let's search for things in lists\n",
    "### 2.1 Linear Search\n",
    "<pre>\n",
    "Best case: O(1)  \n",
    "Average case: O(n)  \n",
    "Worst case: O(n)   \n",
    "</pre>"
   ]
  },
  {
   "cell_type": "code",
   "execution_count": 6,
   "metadata": {},
   "outputs": [
    {
     "name": "stdout",
     "output_type": "stream",
     "text": [
      "List A:\n",
      "[ 0  2  4  6  8 10 12 14 16 18 20]\n",
      "Find: 9\n",
      "\n",
      "9 not in list A\n"
     ]
    }
   ],
   "source": [
    "A = np.arange(0, 21, 2)\n",
    "print('List A:')\n",
    "print(A)\n",
    "x = random.randint(0, 20)\n",
    "print('Find: {}'.format(x))\n",
    "\n",
    "\n",
    "def linearSearch(A, x):\n",
    "    if(len(A) == 0):\n",
    "        return 'The list is empty'\n",
    "    for i in range(0, len(A)):\n",
    "        if(A[i] == x):\n",
    "            return 'Found {} in list A at position {}'.format(x, i+1)\n",
    "    return '{} not in list A'.format(x)\n",
    "\n",
    "x = linearSearch(A, x)\n",
    "print('\\n{}'.format(x))"
   ]
  },
  {
   "cell_type": "markdown",
   "metadata": {},
   "source": [
    "### 2.2 Jump Search\n",
    "<pre>\n",
    "Best case: O(1)  \n",
    "Average case: O(sqrt(n))  \n",
    "Worst case: O(sqrt(n))  \n",
    "</pre>"
   ]
  },
  {
   "cell_type": "code",
   "execution_count": 7,
   "metadata": {},
   "outputs": [
    {
     "name": "stdout",
     "output_type": "stream",
     "text": [
      "List A:\n",
      "[ 0  2  4  6  8 10 12 14 16 18 20]\n",
      "Find: 16\n",
      "\n",
      "Found 16 in list A at position 9\n"
     ]
    }
   ],
   "source": [
    "A = np.arange(0, 21, 2)\n",
    "print('List A:')\n",
    "print(A)\n",
    "x = random.randint(0, 20)\n",
    "print('Find: {}'.format(x))\n",
    "\n",
    "def jumpSearch(A, x):\n",
    "    n = int(np.sqrt(len(A)))\n",
    "    for i in range(0, len(A), n):\n",
    "        if(A[i] == x):\n",
    "            return 'Found {} in list A at position {}'.format(x, i+1)\n",
    "        elif(A[i] > x):\n",
    "            i -= n\n",
    "            break\n",
    "        elif(i >= len(A)):\n",
    "            return '{} not in list A'.format(x)\n",
    "    \n",
    "    for j in range(i, i+n):\n",
    "        if(A[j] == x):\n",
    "            return 'Found {} in list A at position {}'.format(x, j+1)\n",
    "    return '{} not in list A'.format(x)\n",
    "\n",
    "x = jumpSearch(A, x)\n",
    "print('\\n{}'.format(x))"
   ]
  },
  {
   "cell_type": "markdown",
   "metadata": {},
   "source": [
    "### 2.3 Binary Search\n",
    "<pre>\n",
    "Best case: O(1)  \n",
    "Average case: O(log(n))  \n",
    "Worst case: O(log(n))  \n",
    "</pre>"
   ]
  },
  {
   "cell_type": "code",
   "execution_count": 8,
   "metadata": {},
   "outputs": [
    {
     "name": "stdout",
     "output_type": "stream",
     "text": [
      "List A:\n",
      "[ 0  2  4  6  8 10 12 14 16 18 20]\n",
      "Find: 6\n",
      "\n",
      "Found 6 in list A at position 4\n"
     ]
    }
   ],
   "source": [
    "A = np.arange(0, 21, 2)\n",
    "print('List A:')\n",
    "print(A)\n",
    "x = random.randint(0, 20)\n",
    "print('Find: {}'.format(x))\n",
    "\n",
    "def binarySearch(A, x):\n",
    "    left, right = 0, len(A)-1\n",
    "    while(left < right):\n",
    "        middle = int((left + right)/2)\n",
    "        if(A[middle] == x):\n",
    "            return 'Found {} in list A at position {}'.format(x, middle+1)\n",
    "        elif(A[middle] < x):\n",
    "            left = middle + 1 \n",
    "        else:\n",
    "            right = middle - 1\n",
    "    return '{} not in list A'.format(x)\n",
    "\n",
    "x = binarySearch(A, x)\n",
    "print('\\n{}'.format(x))"
   ]
  }
 ],
 "metadata": {
  "kernelspec": {
   "display_name": "Python 3",
   "language": "python",
   "name": "python3"
  },
  "language_info": {
   "codemirror_mode": {
    "name": "ipython",
    "version": 3
   },
   "file_extension": ".py",
   "mimetype": "text/x-python",
   "name": "python",
   "nbconvert_exporter": "python",
   "pygments_lexer": "ipython3",
   "version": "3.6.7"
  }
 },
 "nbformat": 4,
 "nbformat_minor": 2
}
